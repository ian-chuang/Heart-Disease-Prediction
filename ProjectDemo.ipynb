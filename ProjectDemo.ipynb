{
  "cells": [
    {
      "cell_type": "code",
      "execution_count": 21,
      "metadata": {
        "colab": {
          "base_uri": "https://localhost:8080/"
        },
        "id": "hPjwG9X5xInp",
        "outputId": "ead117a9-fd66-43e2-9ac2-65a3c2632a6c"
      },
      "outputs": [
        {
          "output_type": "stream",
          "name": "stdout",
          "text": [
            "Looking in indexes: https://pypi.org/simple, https://us-python.pkg.dev/colab-wheels/public/simple/\n",
            "Requirement already satisfied: pyngrok==4.1.1 in /usr/local/lib/python3.7/dist-packages (4.1.1)\n",
            "Requirement already satisfied: flask-ngrok in /usr/local/lib/python3.7/dist-packages (0.0.25)\n",
            "Requirement already satisfied: PyYAML in /usr/local/lib/python3.7/dist-packages (from pyngrok==4.1.1) (3.13)\n",
            "Requirement already satisfied: future in /usr/local/lib/python3.7/dist-packages (from pyngrok==4.1.1) (0.16.0)\n",
            "Requirement already satisfied: requests in /usr/local/lib/python3.7/dist-packages (from flask-ngrok) (2.23.0)\n",
            "Requirement already satisfied: Flask>=0.8 in /usr/local/lib/python3.7/dist-packages (from flask-ngrok) (1.1.4)\n",
            "Requirement already satisfied: click<8.0,>=5.1 in /usr/local/lib/python3.7/dist-packages (from Flask>=0.8->flask-ngrok) (7.1.2)\n",
            "Requirement already satisfied: Jinja2<3.0,>=2.10.1 in /usr/local/lib/python3.7/dist-packages (from Flask>=0.8->flask-ngrok) (2.11.3)\n",
            "Requirement already satisfied: Werkzeug<2.0,>=0.15 in /usr/local/lib/python3.7/dist-packages (from Flask>=0.8->flask-ngrok) (1.0.1)\n",
            "Requirement already satisfied: itsdangerous<2.0,>=0.24 in /usr/local/lib/python3.7/dist-packages (from Flask>=0.8->flask-ngrok) (1.1.0)\n",
            "Requirement already satisfied: MarkupSafe>=0.23 in /usr/local/lib/python3.7/dist-packages (from Jinja2<3.0,>=2.10.1->Flask>=0.8->flask-ngrok) (2.0.1)\n",
            "Requirement already satisfied: chardet<4,>=3.0.2 in /usr/local/lib/python3.7/dist-packages (from requests->flask-ngrok) (3.0.4)\n",
            "Requirement already satisfied: urllib3!=1.25.0,!=1.25.1,<1.26,>=1.21.1 in /usr/local/lib/python3.7/dist-packages (from requests->flask-ngrok) (1.24.3)\n",
            "Requirement already satisfied: certifi>=2017.4.17 in /usr/local/lib/python3.7/dist-packages (from requests->flask-ngrok) (2022.5.18.1)\n",
            "Requirement already satisfied: idna<3,>=2.5 in /usr/local/lib/python3.7/dist-packages (from requests->flask-ngrok) (2.10)\n",
            "Looking in indexes: https://pypi.org/simple, https://us-python.pkg.dev/colab-wheels/public/simple/\n",
            "Requirement already satisfied: bootstrap-flask in /usr/local/lib/python3.7/dist-packages (2.0.2)\n",
            "Requirement already satisfied: Flask-WTF in /usr/local/lib/python3.7/dist-packages (1.0.1)\n",
            "Requirement already satisfied: WTForms in /usr/local/lib/python3.7/dist-packages (3.0.1)\n",
            "Requirement already satisfied: Flask in /usr/local/lib/python3.7/dist-packages (from bootstrap-flask) (1.1.4)\n",
            "Requirement already satisfied: itsdangerous in /usr/local/lib/python3.7/dist-packages (from Flask-WTF) (1.1.0)\n",
            "Requirement already satisfied: MarkupSafe in /usr/local/lib/python3.7/dist-packages (from WTForms) (2.0.1)\n",
            "Requirement already satisfied: click<8.0,>=5.1 in /usr/local/lib/python3.7/dist-packages (from Flask->bootstrap-flask) (7.1.2)\n",
            "Requirement already satisfied: Jinja2<3.0,>=2.10.1 in /usr/local/lib/python3.7/dist-packages (from Flask->bootstrap-flask) (2.11.3)\n",
            "Requirement already satisfied: Werkzeug<2.0,>=0.15 in /usr/local/lib/python3.7/dist-packages (from Flask->bootstrap-flask) (1.0.1)\n",
            "Authtoken saved to configuration file: /root/.ngrok2/ngrok.yml\n",
            "Drive already mounted at /content/drive; to attempt to forcibly remount, call drive.mount(\"/content/drive\", force_remount=True).\n"
          ]
        }
      ],
      "source": [
        "!pip install pyngrok==4.1.1 flask-ngrok\n",
        "!pip install bootstrap-flask Flask-WTF WTForms\n",
        "!ngrok authtoken '29wnsR4eRexbsj5gEAQb8NEDHbD_6gRmkUqyv8CaLzc1jD9DB'\n",
        "\n",
        "from flask import Flask, render_template_string, redirect, url_for\n",
        "from flask_bootstrap import Bootstrap4\n",
        "from flask_wtf import FlaskForm\n",
        "from wtforms import StringField, RadioField, IntegerField, FloatField, SubmitField\n",
        "from wtforms.validators import DataRequired, InputRequired\n",
        "from flask_ngrok import run_with_ngrok\n",
        "\n",
        "from tensorflow import keras\n",
        "import pandas as pd\n",
        "import numpy as np\n",
        "from sklearn.preprocessing import MinMaxScaler\n",
        "from google.colab import drive\n",
        "drive.mount('/content/drive')\n",
        "\n",
        "model = keras.models.load_model(\"/content/drive/Shared drives/ECS171 Group Project Team 11/best_model\")"
      ]
    },
    {
      "cell_type": "code",
      "execution_count": 22,
      "metadata": {
        "id": "rJluCWwEENi3"
      },
      "outputs": [],
      "source": [
        "def process_input(i):\n",
        "    df = pd.DataFrame(i)\n",
        "    # Replace Binary Columns No with 0\n",
        "    df.iloc[:,5:14] = df.iloc[:,5:14].replace('No', 0)\n",
        "    df['HeartDisease'] = df['HeartDisease'].replace('No', 0)\n",
        "\n",
        "    # Replace Binary Columns Yes with 1\n",
        "    df.iloc[:,5:14] = df.iloc[:,5:14].replace('Yes', 1)\n",
        "    df['HeartDisease'] = df['HeartDisease'].replace('Yes', 1)\n",
        "\n",
        "    # Rename Sex column to Female\n",
        "    df = df.rename({'Sex': 'Female'}, axis=1)\n",
        "\n",
        "    # Replace Male with 0, Female with 1, and some typo corrections\n",
        "    df = df.replace({\n",
        "        'Female': {\n",
        "            'Female': 1,\n",
        "            'Male': 0\n",
        "        },\n",
        "        'Diabetic': {\n",
        "            'No, borderline diabetes': 'No_borderline_diabetes',\n",
        "            'Yes (during pregnancy)': 'Yes_during_pregnancy'\n",
        "        },\n",
        "        'Race': {\n",
        "            'American Indian/Alaskan Native': 'American_Indian_or_Alaskan_Native'\n",
        "        },\n",
        "        'GenHealth': {\n",
        "            'Very good': 'Very_good'\n",
        "        }\n",
        "\n",
        "    })\n",
        "\n",
        "    df.head()\n",
        "\n",
        "    df_ds = pd.read_csv(\"/content/drive/Shared drives/ECS171 Group Project Team 11/heart_2020_cleaned.csv\")\n",
        "    df_ds = df_ds[[\n",
        "        'BMI',\n",
        "        'PhysicalHealth',\n",
        "        'MentalHealth',\n",
        "        'SleepTime'\n",
        "    ]]\n",
        "    scaler = MinMaxScaler()\n",
        "    scaler.fit(df_ds)\n",
        "    df.iloc[:, 1:5] = scaler.transform(df.iloc[:, 1:5])\n",
        "\n",
        "    columns = ['HeartDisease', 'BMI', 'PhysicalHealth', 'MentalHealth', 'SleepTime',\n",
        "              'Smoking', 'AlcoholDrinking', 'Stroke', 'DiffWalking', 'Female',\n",
        "              'PhysicalActivity', 'Asthma', 'KidneyDisease', 'SkinCancer',\n",
        "              'AgeCategory__18-24', 'AgeCategory__25-29', 'AgeCategory__30-34',\n",
        "              'AgeCategory__35-39', 'AgeCategory__40-44', 'AgeCategory__45-49',\n",
        "              'AgeCategory__50-54', 'AgeCategory__55-59', 'AgeCategory__60-64',\n",
        "              'AgeCategory__65-69', 'AgeCategory__70-74', 'AgeCategory__75-79',\n",
        "              'AgeCategory__80 or older', 'Race__American_Indian_or_Alaskan_Native',\n",
        "              'Race__Asian', 'Race__Black', 'Race__Hispanic', 'Race__Other',\n",
        "              'Race__White', 'Diabetic__No', 'Diabetic__No_borderline_diabetes',\n",
        "              'Diabetic__Yes', 'Diabetic__Yes_during_pregnancy',\n",
        "              'GenHealth__Excellent', 'GenHealth__Fair', 'GenHealth__Good',\n",
        "              'GenHealth__Poor', 'GenHealth__Very_good']\n",
        "\n",
        "    for col in columns:\n",
        "        parts = col.split('__')\n",
        "\n",
        "        if len(parts) == 2:\n",
        "            if df[parts[0]][0] == parts[1]:\n",
        "                df[col] = [1]\n",
        "            else:\n",
        "                df[col] = [0]\n",
        "\n",
        "    df = df.drop(columns=['HeartDisease', 'AgeCategory', 'Race', 'Diabetic', 'GenHealth'])\n",
        "\n",
        "    return df"
      ]
    },
    {
      "cell_type": "code",
      "execution_count": 24,
      "metadata": {
        "colab": {
          "base_uri": "https://localhost:8080/"
        },
        "id": "uWnX_QhvC-iK",
        "outputId": "c02b1b50-6435-47d2-ce51-3e6ca883467a"
      },
      "outputs": [
        {
          "output_type": "stream",
          "name": "stdout",
          "text": [
            " * Serving Flask app \"__main__\" (lazy loading)\n",
            " * Environment: production\n",
            "\u001b[31m   WARNING: This is a development server. Do not use it in a production deployment.\u001b[0m\n",
            "\u001b[2m   Use a production WSGI server instead.\u001b[0m\n",
            " * Debug mode: off\n"
          ]
        },
        {
          "output_type": "stream",
          "name": "stderr",
          "text": [
            " * Running on http://127.0.0.1:5000/ (Press CTRL+C to quit)\n"
          ]
        },
        {
          "output_type": "stream",
          "name": "stdout",
          "text": [
            " * Running on http://1b3a-34-86-147-94.ngrok.io\n",
            " * Traffic stats available on http://127.0.0.1:4040\n"
          ]
        },
        {
          "output_type": "stream",
          "name": "stderr",
          "text": [
            "127.0.0.1 - - [31/May/2022 23:21:48] \"\u001b[37mGET / HTTP/1.1\u001b[0m\" 200 -\n",
            "127.0.0.1 - - [31/May/2022 23:21:48] \"\u001b[33mGET /favicon.ico HTTP/1.1\u001b[0m\" 404 -\n",
            "127.0.0.1 - - [31/May/2022 23:21:49] \"\u001b[37mGET / HTTP/1.1\u001b[0m\" 200 -\n"
          ]
        },
        {
          "output_type": "stream",
          "name": "stdout",
          "text": [
            "{'HeartDisease': None, 'BMI': [25.0], 'PhysicalHealth': [0], 'MentalHealth': [0], 'SleepTime': [6], 'Smoking': ['No'], 'AlcoholDrinking': ['No'], 'Stroke': ['No'], 'DiffWalking': ['No'], 'Sex': ['Female'], 'PhysicalActivity': ['No'], 'Asthma': ['No'], 'KidneyDisease': ['No'], 'SkinCancer': ['No'], 'AgeCategory': ['55-59'], 'Race': ['American Indian/Alaskan Native'], 'Diabetic': ['No'], 'GenHealth': ['Excellent']}\n"
          ]
        },
        {
          "output_type": "stream",
          "name": "stderr",
          "text": [
            "127.0.0.1 - - [31/May/2022 23:22:07] \"\u001b[37mPOST / HTTP/1.1\u001b[0m\" 200 -\n"
          ]
        },
        {
          "output_type": "stream",
          "name": "stdout",
          "text": [
            "Probability of Heart Disease: 0.010824978351593018\n"
          ]
        }
      ],
      "source": [
        "app = Flask(__name__)\n",
        "app.config['SECRET_KEY'] = 'C2HWGVoMGfNTBsrYQg8EcMrdTimkZfAbssdlkfjl'\n",
        "run_with_ngrok(app)  # Start ngrok when app is run\n",
        "bootstrap = Bootstrap4(app)\n",
        "\n",
        "\n",
        "class NameForm(FlaskForm):\n",
        "    BMI = FloatField('BMI', validators=[InputRequired()])\n",
        "    PhysicalHealth = IntegerField('PhysicalHealth', validators=[InputRequired()])\n",
        "    MentalHealth = IntegerField('MentalHealth', validators=[InputRequired()])\n",
        "    SleepTime = IntegerField('SleepTime', validators=[InputRequired()])\n",
        "    Smoking = RadioField('Smoking', choices=[('No','No'),('Yes','Yes')], validators=[DataRequired()])\n",
        "    AlcoholDrinking = RadioField('AlcoholDrinking', choices=[('No','No'),('Yes','Yes')], validators=[DataRequired()])\n",
        "    Stroke = RadioField('Stroke', choices=[('No','No'),('Yes','Yes')], validators=[DataRequired()])\n",
        "    DiffWalking = RadioField('DiffWalking', choices=[('No','No'),('Yes','Yes')], validators=[DataRequired()])\n",
        "    Sex = RadioField('Sex', choices=[('Female','Female'),('Male','Male')], validators=[DataRequired()])\n",
        "    PhysicalActivity = RadioField('PhysicalActivity', choices=[('No','No'),('Yes','Yes')], validators=[DataRequired()])\n",
        "    Asthma = RadioField('Asthma', choices=[('No','No'),('Yes','Yes')], validators=[DataRequired()])\n",
        "    KidneyDisease = RadioField('KidneyDisease', choices=[('No','No'),('Yes','Yes')], validators=[DataRequired()])\n",
        "    SkinCancer = RadioField('SkinCancer', choices=[('No','No'),('Yes','Yes')], validators=[DataRequired()])\n",
        "    AgeCategory = RadioField('AgeCategory', choices=[('55-59','55-59'), ('80 or older','80 or older'), ('65-69','65-69'), ('75-79', '75-79'), ('40-44', '40-44'), ('70-74','70-74'), ('60-64','60-64'), ('50-54','50-54'), ('45-49','45-49'), ('18-24','18-24'), ('35-39','35-39'), ('30-34','30-34'), ('25-29','25-29')], validators=[DataRequired()])\n",
        "    Race = RadioField('Race', choices=[('White','White'), ('Black','Black'), ('Asian','Asian'), ('American Indian/Alaskan Native','American Indian/Alaskan Native'), ('Other','Other'), ('Hispanic','Hispanic')], validators=[DataRequired()])\n",
        "    Diabetic = RadioField('Diabetic', choices=[('Yes','Yes'), ('No','No'), ('No, borderline diabetes','No, borderline diabetes'), ('Yes (during pregnancy)','Yes (during pregnancy)')], validators=[DataRequired()])\n",
        "    GenHealth = RadioField('GenHealth', choices=[('Very good','Very good'), ('Fair','Fair'), ('Good','Good'), ('Poor','Poor'), ('Excellent','Excellent')], validators=[DataRequired()])\n",
        "\n",
        "    submit = SubmitField('Submit')\n",
        "\n",
        "@app.route('/', methods=['GET', 'POST'])\n",
        "def index():\n",
        "    form = NameForm()\n",
        "    message = \"\"\n",
        "    if form.validate_on_submit():\n",
        "\n",
        "        data = {\n",
        "            'HeartDisease': None,\n",
        "            'BMI' : [form.BMI.data],\n",
        "            'PhysicalHealth' :[form.PhysicalHealth.data],\n",
        "            'MentalHealth' :[form.MentalHealth.data],\n",
        "            'SleepTime' :[form.SleepTime.data],\n",
        "            'Smoking':[form.Smoking.data],\n",
        "            'AlcoholDrinking': [form.AlcoholDrinking.data],\n",
        "            'Stroke': [form.Stroke.data],\n",
        "            'DiffWalking':[form.DiffWalking.data],\n",
        "            'Sex' : [form.Sex.data],\n",
        "            'PhysicalActivity': [form.PhysicalActivity.data],\n",
        "            'Asthma':[form.Asthma.data],\n",
        "            'KidneyDisease':[form.KidneyDisease.data],\n",
        "            'SkinCancer':[form.SkinCancer.data],\n",
        "            'AgeCategory': [form.AgeCategory.data],\n",
        "            'Race':[form.Race.data],\n",
        "            'Diabetic' :[form.Diabetic.data],\n",
        "            'GenHealth' : [form.GenHealth.data]\n",
        "        }\n",
        "\n",
        "        df = process_input(data)\n",
        "\n",
        "        message = f'Probability of Heart Disease: {model.predict(df)[0][0]}'\n",
        "\n",
        "    return render_template_string(\n",
        "        \"\"\" \n",
        "{% from 'bootstrap4/form.html' import render_form %}\n",
        "<html>\n",
        "<head>\n",
        "<!-- Bootstrap CSS -->\n",
        "</head>\n",
        "<body>\n",
        "\n",
        "<h2>Heart Disease Prediction Model</h2>\n",
        "{{ render_form(form) }}\n",
        "\n",
        "<p class=\"pt-5\"><strong>{{ message }}</strong></p>\n",
        "\n",
        "<!-- Bootstrap JS -->\n",
        "</body>\n",
        "</html>\n",
        "        \"\"\", form=form, message=message)\n",
        "\n",
        "app.run()"
      ]
    },
    {
      "cell_type": "code",
      "execution_count": null,
      "metadata": {
        "id": "LOguaNOgHjHH"
      },
      "outputs": [],
      "source": [
        ""
      ]
    }
  ],
  "metadata": {
    "colab": {
      "collapsed_sections": [],
      "name": "ProjectDemo.ipynb",
      "provenance": []
    },
    "kernelspec": {
      "display_name": "Python 3",
      "name": "python3"
    },
    "language_info": {
      "name": "python"
    }
  },
  "nbformat": 4,
  "nbformat_minor": 0
}